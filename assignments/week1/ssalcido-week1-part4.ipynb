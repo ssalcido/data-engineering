{
 "cells": [
  {
   "source": [
    "import pandas as pd"
   ],
   "cell_type": "code",
   "metadata": {
    "tags": []
   },
   "execution_count": 61,
   "outputs": []
  },
  {
   "cell_type": "code",
   "execution_count": 96,
   "metadata": {},
   "outputs": [
    {
     "output_type": "execute_result",
     "data": {
      "text/plain": [
       "              id  impact.gap  impact.magnitude  impact.significance  \\\n",
       "725   nc72668186       114.0              0.01                    0   \n",
       "2218  nc72669830        86.0              0.01                    0   \n",
       "7494  nc72682876       125.0              0.01                    0   \n",
       "4466  nc72672995        84.0              0.02                    0   \n",
       "7027  nc72681026       109.0              0.02                    0   \n",
       "...          ...         ...               ...                  ...   \n",
       "7223  us10006fik        52.0              6.40                  630   \n",
       "8002  us10006gbf        24.0              6.80                  972   \n",
       "4998  us10006d5h        21.0              7.20                  799   \n",
       "6787  us10006exl        22.0              7.40                  843   \n",
       "799   us100068jg        11.0              7.70                  971   \n",
       "\n",
       "      location.depth  location.distance  \\\n",
       "725             0.11           0.012550   \n",
       "2218            0.95           0.013020   \n",
       "7494            0.08           0.009745   \n",
       "4466            4.06           0.018820   \n",
       "7027            1.16           0.005171   \n",
       "...              ...                ...   \n",
       "7223           10.00           2.916000   \n",
       "8002           84.07           1.797000   \n",
       "4998            9.95           4.822000   \n",
       "6787           10.00           2.852000   \n",
       "799           207.62           3.293000   \n",
       "\n",
       "                                      location.full  location.latitude  \\\n",
       "725                     8km WNW of Cobb, California          38.839833   \n",
       "2218             2km E of Mammoth Lakes, California          37.653000   \n",
       "7494           7km ESE of Mammoth Lakes, California          37.627000   \n",
       "4466            2km SE of Mammoth Lakes, California          37.633167   \n",
       "7027          10km ESE of Mammoth Lakes, California          37.624167   \n",
       "...                                             ...                ...   \n",
       "7223                    South Georgia Island region         -55.277500   \n",
       "8002                         25km W of Chauk, Burma          20.919200   \n",
       "4998           109km E of Ile Hunter, New Caledonia         -22.495300   \n",
       "6787                    South Georgia Island region         -55.279300   \n",
       "799   28km SSW of Agrihan, Northern Mariana Islands          18.543900   \n",
       "\n",
       "      location.longitude                location.name  time.day  \\\n",
       "725          -122.819500                   California        29   \n",
       "2218         -118.940167                   California         3   \n",
       "7494         -118.890667                   California        22   \n",
       "4466         -118.947333                   California        10   \n",
       "7027         -118.862667                   California        20   \n",
       "...                  ...                          ...       ...   \n",
       "7223          -31.754600  South Georgia Island region        20   \n",
       "8002           94.578900                        Burma        24   \n",
       "4998          173.111400                New Caledonia        11   \n",
       "6787          -31.874000  South Georgia Island region        19   \n",
       "799           145.541000     Northern Mariana Islands        29   \n",
       "\n",
       "         time.epoch            time.full  time.hour  time.minute  time.month  \\\n",
       "725   1469808935440  2016-07-29 12:15:35         12           15           7   \n",
       "2218  1470218300170  2016-08-03 05:58:20          5           58           8   \n",
       "7494  1471839342690  2016-08-22 00:15:42          0           15           8   \n",
       "4466  1470825077400  2016-08-10 06:31:17          6           31           8   \n",
       "7027  1471681723060  2016-08-20 04:28:43          4           28           8   \n",
       "...             ...                  ...        ...          ...         ...   \n",
       "7223  1471751123740  2016-08-20 23:45:23         23           45           8   \n",
       "8002  1472034895000  2016-08-24 06:34:55          6           34           8   \n",
       "4998  1470965195140  2016-08-11 21:26:35         21           26           8   \n",
       "6787  1471591942730  2016-08-19 03:32:22          3           32           8   \n",
       "799   1469827106510  2016-07-29 17:18:26         17           18           7   \n",
       "\n",
       "      time.second  time.year  \n",
       "725            35       2016  \n",
       "2218           20       2016  \n",
       "7494           42       2016  \n",
       "4466           17       2016  \n",
       "7027           43       2016  \n",
       "...           ...        ...  \n",
       "7223           23       2016  \n",
       "8002           55       2016  \n",
       "4998           35       2016  \n",
       "6787           22       2016  \n",
       "799            26       2016  \n",
       "\n",
       "[8394 rows x 18 columns]"
      ],
      "text/html": "<div>\n<style scoped>\n    .dataframe tbody tr th:only-of-type {\n        vertical-align: middle;\n    }\n\n    .dataframe tbody tr th {\n        vertical-align: top;\n    }\n\n    .dataframe thead th {\n        text-align: right;\n    }\n</style>\n<table border=\"1\" class=\"dataframe\">\n  <thead>\n    <tr style=\"text-align: right;\">\n      <th></th>\n      <th>id</th>\n      <th>impact.gap</th>\n      <th>impact.magnitude</th>\n      <th>impact.significance</th>\n      <th>location.depth</th>\n      <th>location.distance</th>\n      <th>location.full</th>\n      <th>location.latitude</th>\n      <th>location.longitude</th>\n      <th>location.name</th>\n      <th>time.day</th>\n      <th>time.epoch</th>\n      <th>time.full</th>\n      <th>time.hour</th>\n      <th>time.minute</th>\n      <th>time.month</th>\n      <th>time.second</th>\n      <th>time.year</th>\n    </tr>\n  </thead>\n  <tbody>\n    <tr>\n      <th>725</th>\n      <td>nc72668186</td>\n      <td>114.0</td>\n      <td>0.01</td>\n      <td>0</td>\n      <td>0.11</td>\n      <td>0.012550</td>\n      <td>8km WNW of Cobb, California</td>\n      <td>38.839833</td>\n      <td>-122.819500</td>\n      <td>California</td>\n      <td>29</td>\n      <td>1469808935440</td>\n      <td>2016-07-29 12:15:35</td>\n      <td>12</td>\n      <td>15</td>\n      <td>7</td>\n      <td>35</td>\n      <td>2016</td>\n    </tr>\n    <tr>\n      <th>2218</th>\n      <td>nc72669830</td>\n      <td>86.0</td>\n      <td>0.01</td>\n      <td>0</td>\n      <td>0.95</td>\n      <td>0.013020</td>\n      <td>2km E of Mammoth Lakes, California</td>\n      <td>37.653000</td>\n      <td>-118.940167</td>\n      <td>California</td>\n      <td>3</td>\n      <td>1470218300170</td>\n      <td>2016-08-03 05:58:20</td>\n      <td>5</td>\n      <td>58</td>\n      <td>8</td>\n      <td>20</td>\n      <td>2016</td>\n    </tr>\n    <tr>\n      <th>7494</th>\n      <td>nc72682876</td>\n      <td>125.0</td>\n      <td>0.01</td>\n      <td>0</td>\n      <td>0.08</td>\n      <td>0.009745</td>\n      <td>7km ESE of Mammoth Lakes, California</td>\n      <td>37.627000</td>\n      <td>-118.890667</td>\n      <td>California</td>\n      <td>22</td>\n      <td>1471839342690</td>\n      <td>2016-08-22 00:15:42</td>\n      <td>0</td>\n      <td>15</td>\n      <td>8</td>\n      <td>42</td>\n      <td>2016</td>\n    </tr>\n    <tr>\n      <th>4466</th>\n      <td>nc72672995</td>\n      <td>84.0</td>\n      <td>0.02</td>\n      <td>0</td>\n      <td>4.06</td>\n      <td>0.018820</td>\n      <td>2km SE of Mammoth Lakes, California</td>\n      <td>37.633167</td>\n      <td>-118.947333</td>\n      <td>California</td>\n      <td>10</td>\n      <td>1470825077400</td>\n      <td>2016-08-10 06:31:17</td>\n      <td>6</td>\n      <td>31</td>\n      <td>8</td>\n      <td>17</td>\n      <td>2016</td>\n    </tr>\n    <tr>\n      <th>7027</th>\n      <td>nc72681026</td>\n      <td>109.0</td>\n      <td>0.02</td>\n      <td>0</td>\n      <td>1.16</td>\n      <td>0.005171</td>\n      <td>10km ESE of Mammoth Lakes, California</td>\n      <td>37.624167</td>\n      <td>-118.862667</td>\n      <td>California</td>\n      <td>20</td>\n      <td>1471681723060</td>\n      <td>2016-08-20 04:28:43</td>\n      <td>4</td>\n      <td>28</td>\n      <td>8</td>\n      <td>43</td>\n      <td>2016</td>\n    </tr>\n    <tr>\n      <th>...</th>\n      <td>...</td>\n      <td>...</td>\n      <td>...</td>\n      <td>...</td>\n      <td>...</td>\n      <td>...</td>\n      <td>...</td>\n      <td>...</td>\n      <td>...</td>\n      <td>...</td>\n      <td>...</td>\n      <td>...</td>\n      <td>...</td>\n      <td>...</td>\n      <td>...</td>\n      <td>...</td>\n      <td>...</td>\n      <td>...</td>\n    </tr>\n    <tr>\n      <th>7223</th>\n      <td>us10006fik</td>\n      <td>52.0</td>\n      <td>6.40</td>\n      <td>630</td>\n      <td>10.00</td>\n      <td>2.916000</td>\n      <td>South Georgia Island region</td>\n      <td>-55.277500</td>\n      <td>-31.754600</td>\n      <td>South Georgia Island region</td>\n      <td>20</td>\n      <td>1471751123740</td>\n      <td>2016-08-20 23:45:23</td>\n      <td>23</td>\n      <td>45</td>\n      <td>8</td>\n      <td>23</td>\n      <td>2016</td>\n    </tr>\n    <tr>\n      <th>8002</th>\n      <td>us10006gbf</td>\n      <td>24.0</td>\n      <td>6.80</td>\n      <td>972</td>\n      <td>84.07</td>\n      <td>1.797000</td>\n      <td>25km W of Chauk, Burma</td>\n      <td>20.919200</td>\n      <td>94.578900</td>\n      <td>Burma</td>\n      <td>24</td>\n      <td>1472034895000</td>\n      <td>2016-08-24 06:34:55</td>\n      <td>6</td>\n      <td>34</td>\n      <td>8</td>\n      <td>55</td>\n      <td>2016</td>\n    </tr>\n    <tr>\n      <th>4998</th>\n      <td>us10006d5h</td>\n      <td>21.0</td>\n      <td>7.20</td>\n      <td>799</td>\n      <td>9.95</td>\n      <td>4.822000</td>\n      <td>109km E of Ile Hunter, New Caledonia</td>\n      <td>-22.495300</td>\n      <td>173.111400</td>\n      <td>New Caledonia</td>\n      <td>11</td>\n      <td>1470965195140</td>\n      <td>2016-08-11 21:26:35</td>\n      <td>21</td>\n      <td>26</td>\n      <td>8</td>\n      <td>35</td>\n      <td>2016</td>\n    </tr>\n    <tr>\n      <th>6787</th>\n      <td>us10006exl</td>\n      <td>22.0</td>\n      <td>7.40</td>\n      <td>843</td>\n      <td>10.00</td>\n      <td>2.852000</td>\n      <td>South Georgia Island region</td>\n      <td>-55.279300</td>\n      <td>-31.874000</td>\n      <td>South Georgia Island region</td>\n      <td>19</td>\n      <td>1471591942730</td>\n      <td>2016-08-19 03:32:22</td>\n      <td>3</td>\n      <td>32</td>\n      <td>8</td>\n      <td>22</td>\n      <td>2016</td>\n    </tr>\n    <tr>\n      <th>799</th>\n      <td>us100068jg</td>\n      <td>11.0</td>\n      <td>7.70</td>\n      <td>971</td>\n      <td>207.62</td>\n      <td>3.293000</td>\n      <td>28km SSW of Agrihan, Northern Mariana Islands</td>\n      <td>18.543900</td>\n      <td>145.541000</td>\n      <td>Northern Mariana Islands</td>\n      <td>29</td>\n      <td>1469827106510</td>\n      <td>2016-07-29 17:18:26</td>\n      <td>17</td>\n      <td>18</td>\n      <td>7</td>\n      <td>26</td>\n      <td>2016</td>\n    </tr>\n  </tbody>\n</table>\n<p>8394 rows × 18 columns</p>\n</div>"
     },
     "metadata": {},
     "execution_count": 96
    }
   ],
   "source": [
    "#Challenge 1\n",
    "df = pd.read_csv('earthquakes.csv')\n",
    "df.sort_values(by=['impact.magnitude'])"
   ]
  },
  {
   "cell_type": "code",
   "execution_count": 97,
   "metadata": {},
   "outputs": [
    {
     "output_type": "execute_result",
     "data": {
      "text/plain": [
       "           id  impact.gap  impact.magnitude  impact.significance  \\\n",
       "0  nc72666881      122.00              1.43                   31   \n",
       "1  us20006i0y       30.00              4.90                  371   \n",
       "2  nc72666891      249.00              0.06                    0   \n",
       "3  nc72666896      122.00              0.40                    2   \n",
       "4  nn00553447      113.61              0.30                    1   \n",
       "\n",
       "   location.depth  location.distance                         location.full  \\\n",
       "0           15.12            0.10340       13km E of Livermore, California   \n",
       "1           97.07            1.43900            58km WNW of Pakokku, Burma   \n",
       "2            4.39            0.02743  12km SE of Mammoth Lakes, California   \n",
       "3            1.09            0.02699  6km SSW of Mammoth Lakes, California   \n",
       "4            7.60            0.06300             16km SSE of Mogul, Nevada   \n",
       "\n",
       "   location.latitude  location.longitude location.name  time.day  \\\n",
       "0          37.672333         -121.619000    California        27   \n",
       "1          21.514600           94.572100         Burma        27   \n",
       "2          37.576500         -118.859167    California        27   \n",
       "3          37.595833         -118.994833    California        27   \n",
       "4          39.377500         -119.845000        Nevada        27   \n",
       "\n",
       "      time.epoch            time.full  time.hour  time.minute  time.month  \\\n",
       "0  1469593183550  2016-07-27 00:19:43          0           19           7   \n",
       "1  1469593228220  2016-07-27 00:20:28          0           20           7   \n",
       "2  1469593897150  2016-07-27 00:31:37          0           31           7   \n",
       "3  1469594144150  2016-07-27 00:35:44          0           35           7   \n",
       "4  1469594519667  2016-07-27 00:41:59          0           41           7   \n",
       "\n",
       "   time.second  time.year  \n",
       "0           43       2016  \n",
       "1           28       2016  \n",
       "2           37       2016  \n",
       "3           44       2016  \n",
       "4           59       2016  "
      ],
      "text/html": "<div>\n<style scoped>\n    .dataframe tbody tr th:only-of-type {\n        vertical-align: middle;\n    }\n\n    .dataframe tbody tr th {\n        vertical-align: top;\n    }\n\n    .dataframe thead th {\n        text-align: right;\n    }\n</style>\n<table border=\"1\" class=\"dataframe\">\n  <thead>\n    <tr style=\"text-align: right;\">\n      <th></th>\n      <th>id</th>\n      <th>impact.gap</th>\n      <th>impact.magnitude</th>\n      <th>impact.significance</th>\n      <th>location.depth</th>\n      <th>location.distance</th>\n      <th>location.full</th>\n      <th>location.latitude</th>\n      <th>location.longitude</th>\n      <th>location.name</th>\n      <th>time.day</th>\n      <th>time.epoch</th>\n      <th>time.full</th>\n      <th>time.hour</th>\n      <th>time.minute</th>\n      <th>time.month</th>\n      <th>time.second</th>\n      <th>time.year</th>\n    </tr>\n  </thead>\n  <tbody>\n    <tr>\n      <th>0</th>\n      <td>nc72666881</td>\n      <td>122.00</td>\n      <td>1.43</td>\n      <td>31</td>\n      <td>15.12</td>\n      <td>0.10340</td>\n      <td>13km E of Livermore, California</td>\n      <td>37.672333</td>\n      <td>-121.619000</td>\n      <td>California</td>\n      <td>27</td>\n      <td>1469593183550</td>\n      <td>2016-07-27 00:19:43</td>\n      <td>0</td>\n      <td>19</td>\n      <td>7</td>\n      <td>43</td>\n      <td>2016</td>\n    </tr>\n    <tr>\n      <th>1</th>\n      <td>us20006i0y</td>\n      <td>30.00</td>\n      <td>4.90</td>\n      <td>371</td>\n      <td>97.07</td>\n      <td>1.43900</td>\n      <td>58km WNW of Pakokku, Burma</td>\n      <td>21.514600</td>\n      <td>94.572100</td>\n      <td>Burma</td>\n      <td>27</td>\n      <td>1469593228220</td>\n      <td>2016-07-27 00:20:28</td>\n      <td>0</td>\n      <td>20</td>\n      <td>7</td>\n      <td>28</td>\n      <td>2016</td>\n    </tr>\n    <tr>\n      <th>2</th>\n      <td>nc72666891</td>\n      <td>249.00</td>\n      <td>0.06</td>\n      <td>0</td>\n      <td>4.39</td>\n      <td>0.02743</td>\n      <td>12km SE of Mammoth Lakes, California</td>\n      <td>37.576500</td>\n      <td>-118.859167</td>\n      <td>California</td>\n      <td>27</td>\n      <td>1469593897150</td>\n      <td>2016-07-27 00:31:37</td>\n      <td>0</td>\n      <td>31</td>\n      <td>7</td>\n      <td>37</td>\n      <td>2016</td>\n    </tr>\n    <tr>\n      <th>3</th>\n      <td>nc72666896</td>\n      <td>122.00</td>\n      <td>0.40</td>\n      <td>2</td>\n      <td>1.09</td>\n      <td>0.02699</td>\n      <td>6km SSW of Mammoth Lakes, California</td>\n      <td>37.595833</td>\n      <td>-118.994833</td>\n      <td>California</td>\n      <td>27</td>\n      <td>1469594144150</td>\n      <td>2016-07-27 00:35:44</td>\n      <td>0</td>\n      <td>35</td>\n      <td>7</td>\n      <td>44</td>\n      <td>2016</td>\n    </tr>\n    <tr>\n      <th>4</th>\n      <td>nn00553447</td>\n      <td>113.61</td>\n      <td>0.30</td>\n      <td>1</td>\n      <td>7.60</td>\n      <td>0.06300</td>\n      <td>16km SSE of Mogul, Nevada</td>\n      <td>39.377500</td>\n      <td>-119.845000</td>\n      <td>Nevada</td>\n      <td>27</td>\n      <td>1469594519667</td>\n      <td>2016-07-27 00:41:59</td>\n      <td>0</td>\n      <td>41</td>\n      <td>7</td>\n      <td>59</td>\n      <td>2016</td>\n    </tr>\n  </tbody>\n</table>\n</div>"
     },
     "metadata": {},
     "execution_count": 97
    }
   ],
   "source": [
    "## not sure why this is losing the previous sorting\n",
    "df.head(5)"
   ]
  },
  {
   "cell_type": "code",
   "execution_count": 121,
   "metadata": {},
   "outputs": [
    {
     "output_type": "execute_result",
     "data": {
      "text/plain": [
       "location.name\n",
       "Afghanistan                         10\n",
       "Alaska                            2195\n",
       "Anguilla                             1\n",
       "Argentina                           11\n",
       "Arizona                              3\n",
       "                                  ... \n",
       "Washington                         171\n",
       "West Virginia                        1\n",
       "Western Indian-Antarctic Ridge       1\n",
       "Western Xizang                       2\n",
       "Wyoming                             37\n",
       "Length: 118, dtype: int64"
      ]
     },
     "metadata": {},
     "execution_count": 121
    }
   ],
   "source": [
    "#Challenge 2 Need help to sort them by activity and list the top 10\n",
    "df.groupby('location.name').sum()\n",
    "grouped.size()"
   ]
  },
  {
   "cell_type": "code",
   "execution_count": 114,
   "metadata": {},
   "outputs": [
    {
     "output_type": "execute_result",
     "data": {
      "text/plain": [
       "str"
      ]
     },
     "metadata": {},
     "execution_count": 114
    }
   ],
   "source": [
    "type('Afghanistan')"
   ]
  },
  {
   "cell_type": "code",
   "execution_count": 115,
   "metadata": {},
   "outputs": [
    {
     "output_type": "execute_result",
     "data": {
      "text/plain": [
       "int"
      ]
     },
     "metadata": {},
     "execution_count": 115
    }
   ],
   "source": [
    "type(10)"
   ]
  },
  {
   "cell_type": "code",
   "execution_count": null,
   "metadata": {},
   "outputs": [],
   "source": [
    "#Challenge 3 Need help to create the .csv with just the data from Challenge 2\n",
    "df.to_csv('active_earthquake_locations.csv')"
   ]
  }
 ],
 "metadata": {
  "kernelspec": {
   "name": "Python 3.8.5 64-bit ('base': conda)",
   "display_name": "Python 3.8.5 64-bit ('base': conda)",
   "metadata": {
    "interpreter": {
     "hash": "7a8e0ae4bcdcc4131ab99ddec5de134c9ba3e132ca5c89b6b65ad0cfb9647ed0"
    }
   }
  },
  "language_info": {
   "codemirror_mode": {
    "name": "ipython",
    "version": 3
   },
   "file_extension": ".py",
   "mimetype": "text/x-python",
   "name": "python",
   "nbconvert_exporter": "python",
   "pygments_lexer": "ipython3",
   "version": "3.8.5-final"
  }
 },
 "nbformat": 4,
 "nbformat_minor": 2
}