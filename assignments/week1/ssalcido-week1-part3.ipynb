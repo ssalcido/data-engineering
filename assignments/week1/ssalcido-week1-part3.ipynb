{
 "cells": [
  {
   "source": [
    "import csv"
   ],
   "cell_type": "code",
   "metadata": {
    "tags": []
   },
   "execution_count": null,
   "outputs": []
  },
  {
   "cell_type": "code",
   "execution_count": 47,
   "metadata": {
    "tags": []
   },
   "outputs": [
    {
     "output_type": "stream",
     "name": "stdout",
     "text": [
      "7.7 Northern Mariana Islands 2016-07-29 17:18:26\n6.1 South Indian Ocean 2016-08-01 03:42:50\n6.2 Argentina 2016-08-04 10:15:12\n6.3 Japan 2016-08-04 12:24:33\n7.2 New Caledonia 2016-08-11 21:26:35\n6.2 South of the Fiji Islands 2016-08-11 23:29:33\n7.4 South Georgia Island region 2016-08-19 03:32:22\n6.4 South Georgia Island region 2016-08-20 23:45:23\n6.2 Italy 2016-08-23 21:36:33\n6.8 Burma 2016-08-24 06:34:55\n"
     ]
    }
   ],
   "source": [
    "#Challenge 1\n",
    "with open('earthquakes.csv', newline='') as csvfile:\n",
    "    reader = csv.reader(csvfile)\n",
    "    headers = reader.__next__()\n",
    "    for row in reader:\n",
    "        magnitude = float(row[2])\n",
    "        location = row[9]\n",
    "        time = row[12]\n",
    "        if magnitude > 6:\n",
    "            print(magnitude, location, time)"
   ]
  },
  {
   "cell_type": "code",
   "execution_count": 57,
   "metadata": {
    "tags": []
   },
   "outputs": [
    {
     "output_type": "stream",
     "name": "stdout",
     "text": [
      "0.95 California 2016-08-04 00:01:38\n0.7 Alaska 2016-08-04 00:02:28\n1.74 Hawaii 2016-08-04 00:03:09\n2.96 California 2016-08-04 00:18:31\n1.2 Alaska 2016-08-04 00:18:59\n1.15 California 2016-08-04 00:19:19\n0.69 California 2016-08-04 00:22:00\n1.2 Alaska 2016-08-04 00:22:46\n0.99 California 2016-08-04 00:27:32\n2.0 Alaska 2016-08-04 00:29:45\n1.8 Alaska 2016-08-04 00:33:11\n1.77 Hawaii 2016-08-04 00:38:35\n2.7 Alaska 2016-08-04 00:39:58\n0.8 California 2016-08-04 00:44:29\n0.62 California 2016-08-04 00:45:41\n0.2 Alaska 2016-08-04 00:48:13\n1.38 Utah 2016-08-04 00:51:53\n4.48 California 2016-08-04 00:55:35\n2.6 California 2016-08-04 00:58:19\n3.99 California 2016-08-04 00:58:32\n2.2 California 2016-08-04 01:00:23\n0.8 Alaska 2016-08-04 01:02:01\n1.58 California 2016-08-04 01:02:37\n1.1 California 2016-08-04 01:03:57\n1.2 California 2016-08-04 01:04:09\n1.0 California 2016-08-04 01:05:01\n1.0 California 2016-08-04 01:06:02\n1.0 California 2016-08-04 01:06:29\n1.0 California 2016-08-04 01:06:41\n1.0 California 2016-08-04 01:07:03\n1.63 California 2016-08-04 01:09:07\n2.8 California 2016-08-04 01:11:34\n0.59 California 2016-08-04 01:13:40\n1.2 Alaska 2016-08-04 01:13:55\n1.1 California 2016-08-04 01:14:21\n0.8 California 2016-08-04 01:14:41\n2.01 California 2016-08-04 01:15:25\n0.7 California 2016-08-04 01:16:03\n1.0 California 2016-08-04 01:16:20\n0.1 California 2016-08-04 01:17:25\n1.63 California 2016-08-04 01:18:50\n0.56 California 2016-08-04 01:21:00\n0.9 California 2016-08-04 01:21:21\n0.7 California 2016-08-04 01:21:44\n0.2 California 2016-08-04 01:22:33\n0.9 California 2016-08-04 01:22:58\n1.6 California 2016-08-04 01:23:20\n1.0 California 2016-08-04 01:24:18\n0.4 California 2016-08-04 01:25:35\n0.7 California 2016-08-04 01:26:23\n0.7 California 2016-08-04 01:27:05\n0.8 California 2016-08-04 01:28:00\n2.1 Alaska 2016-08-04 01:28:41\n0.6 California 2016-08-04 01:28:47\n0.7 Alaska 2016-08-04 01:29:07\n0.6 California 2016-08-04 01:29:15\n0.4 California 2016-08-04 01:29:36\n0.3 California 2016-08-04 01:30:57\n0.5 California 2016-08-04 01:32:54\n0.4 California 2016-08-04 01:33:04\n0.6 California 2016-08-04 01:34:23\n0.7 California 2016-08-04 01:34:45\n0.9 California 2016-08-04 01:35:40\n0.8 California 2016-08-04 01:36:14\n0.3 California 2016-08-04 01:38:16\n0.3 California 2016-08-04 01:38:37\n1.0 California 2016-08-04 01:39:18\n0.8 California 2016-08-04 01:39:54\n1.83 California 2016-08-04 01:41:25\n1.95 California 2016-08-04 01:42:36\n1.3 Alaska 2016-08-04 01:44:47\n2.49 California 2016-08-04 01:45:07\n0.6 California 2016-08-04 01:49:17\n1.78 California 2016-08-04 01:49:51\n0.5 California 2016-08-04 01:50:44\n0.1 California 2016-08-04 01:51:36\n1.16 California 2016-08-04 01:53:00\n0.3 California 2016-08-04 01:53:29\n3.5 Alaska 2016-08-04 01:54:35\n4.8 Nicaragua 2016-08-04 01:57:02\n1.6 California 2016-08-04 01:59:03\n0.7 California 2016-08-04 02:01:42\n0.3 California 2016-08-04 02:02:59\n2.3 Alaska 2016-08-04 02:06:00\n0.7 California 2016-08-04 02:08:08\n0.7 California 2016-08-04 02:08:51\n1.3 Alaska 2016-08-04 02:09:55\n0.6 California 2016-08-04 02:10:07\n1.0 California 2016-08-04 02:11:19\n1.23 Utah 2016-08-04 02:11:29\n3.3 Alaska 2016-08-04 02:12:10\n0.4 California 2016-08-04 02:13:42\n2.1 Alaska 2016-08-04 02:14:33\n0.09 California 2016-08-04 02:20:40\n0.6 California 2016-08-04 02:21:09\n0.5 Alaska 2016-08-04 02:22:15\n2.5 Alaska 2016-08-04 02:22:52\n0.3 California 2016-08-04 02:23:06\n0.7 Alaska 2016-08-04 02:25:06\n1.49 California 2016-08-04 02:25:54\n0.7 California 2016-08-04 02:31:35\n1.2 Alaska 2016-08-04 02:34:14\n0.4 California 2016-08-04 02:34:56\n0.1 California 2016-08-04 02:35:45\n1.53 California 2016-08-04 02:36:34\n1.5 Canada 2016-08-04 02:37:10\n2.21 California 2016-08-04 02:40:07\n2.0 Alaska 2016-08-04 02:40:18\n0.3 California 2016-08-04 02:44:47\n0.3 California 2016-08-04 02:45:39\n0.2 California 2016-08-04 02:47:16\n0.8 California 2016-08-04 02:49:26\n0.1 California 2016-08-04 02:50:05\n0.6 California 2016-08-04 02:51:18\n0.9 Alaska 2016-08-04 02:52:13\n0.5 California 2016-08-04 02:53:06\n0.33 Montana 2016-08-04 02:56:29\n0.3 California 2016-08-04 02:59:35\n0.6 California 2016-08-04 03:01:04\n0.4 California 2016-08-04 03:03:06\n0.7 California 2016-08-04 03:11:47\n0.2 California 2016-08-04 03:13:40\n0.72 California 2016-08-04 03:20:16\n0.3 California 2016-08-04 03:23:12\n1.3 Alaska 2016-08-04 03:27:30\n0.6 California 2016-08-04 03:29:19\n0.1 California 2016-08-04 03:29:46\n0.2 California 2016-08-04 03:30:03\n1.1 Alaska 2016-08-04 03:31:08\n0.4 California 2016-08-04 03:31:31\n0.5 California 2016-08-04 03:33:59\n0.3 California 2016-08-04 03:35:51\n0.1 California 2016-08-04 03:38:15\n1.09 California 2016-08-04 03:38:18\n1.08 Montana 2016-08-04 03:39:06\n0.2 California 2016-08-04 03:42:16\n0.5 California 2016-08-04 03:49:23\n0.22 California 2016-08-04 03:50:05\n0.55 California 2016-08-04 03:59:35\n0.7 Alaska 2016-08-04 04:01:26\n0.3 California 2016-08-04 04:06:38\n1.86 Hawaii 2016-08-04 04:07:06\n1.5 Alaska 2016-08-04 04:11:23\n0.5 California 2016-08-04 04:12:35\n0.2 California 2016-08-04 04:21:12\n0.57 California 2016-08-04 04:24:45\n1.08 California 2016-08-04 04:25:22\n0.7 California 2016-08-04 04:28:12\n0.1 California 2016-08-04 04:30:13\n0.1 California 2016-08-04 04:31:45\n0.9 California 2016-08-04 04:33:54\n1.9 Alaska 2016-08-04 04:34:06\n0.1 California 2016-08-04 04:34:39\n0.3 California 2016-08-04 04:48:24\n1.2 Alaska 2016-08-04 04:48:38\n0.8 California 2016-08-04 04:52:58\n1.24 California 2016-08-04 04:55:02\n5.2 Papua New Guinea 2016-08-04 05:01:21\n2.32 California 2016-08-04 05:05:49\n1.75 California 2016-08-04 05:10:55\n1.0 California 2016-08-04 05:12:06\n0.84 California 2016-08-04 05:12:16\n1.18 California 2016-08-04 05:13:16\n0.81 California 2016-08-04 05:14:38\n0.6 California 2016-08-04 05:23:29\n3.1 Puerto Rico 2016-08-04 05:31:04\n0.53 California 2016-08-04 05:34:06\n1.37 California 2016-08-04 05:34:08\n0.3 California 2016-08-04 05:37:32\n0.7 Nevada 2016-08-04 05:41:12\n0.89 California 2016-08-04 05:45:49\n0.6 California 2016-08-04 05:46:17\n0.9 California 2016-08-04 05:51:52\n1.7 Puerto Rico 2016-08-04 05:55:51\n0.6 California 2016-08-04 05:57:39\n1.0 Nevada 2016-08-04 06:00:27\n2.0 Alaska 2016-08-04 06:05:28\n2.7 Alaska 2016-08-04 06:10:36\n2.2 British Virgin Islands 2016-08-04 06:13:18\n3.31 California 2016-08-04 06:13:52\n0.8 Alaska 2016-08-04 06:16:15\n0.3 California 2016-08-04 06:22:50\n0.53 California 2016-08-04 06:22:59\n0.82 California 2016-08-04 06:23:02\n0.3 California 2016-08-04 06:24:03\n2.1 Alaska 2016-08-04 06:35:21\n1.45 California 2016-08-04 06:36:23\n0.4 California 2016-08-04 06:38:01\n0.8 Alaska 2016-08-04 06:38:13\n0.3 California 2016-08-04 06:39:14\n1.4 Alaska 2016-08-04 06:43:22\n0.8 Alaska 2016-08-04 06:57:21\n1.0 California 2016-08-04 06:58:14\n0.4 California 2016-08-04 07:03:59\n3.4 Dominican Republic 2016-08-04 07:06:49\n3.17 Mexico 2016-08-04 07:08:24\n1.5 Nevada 2016-08-04 07:15:00\n0.49 California 2016-08-04 07:15:24\n0.9 Alaska 2016-08-04 07:18:23\n1.5 California 2016-08-04 07:25:09\n1.11 California 2016-08-04 07:27:12\n1.82 California 2016-08-04 07:30:31\n0.32 Montana 2016-08-04 07:31:16\n0.6 Alaska 2016-08-04 07:37:10\n1.48 California 2016-08-04 07:44:35\n0.8 Alaska 2016-08-04 07:46:57\n4.8 Indonesia 2016-08-04 07:49:45\n1.59 Wyoming 2016-08-04 07:59:16\n3.6 Alaska 2016-08-04 08:00:00\n0.7 Nevada 2016-08-04 08:04:27\n0.34 California 2016-08-04 08:18:52\n0.8 California 2016-08-04 08:21:01\n0.55 California 2016-08-04 08:25:36\n1.52 California 2016-08-04 08:29:02\n0.5 California 2016-08-04 08:31:04\n2.2 Alaska 2016-08-04 08:40:03\n0.9 California 2016-08-04 08:42:31\n0.1 California 2016-08-04 08:43:17\n0.3 California 2016-08-04 08:43:21\n1.1 Alaska 2016-08-04 08:47:50\n0.47 California 2016-08-04 08:50:00\n1.0 Alaska 2016-08-04 08:51:36\n2.7 Nevada 2016-08-04 08:53:42\n2.36 California 2016-08-04 08:53:50\n0.91 California 2016-08-04 08:53:54\n0.9 Hawaii 2016-08-04 08:54:46\n1.1 Alaska 2016-08-04 09:01:02\n2.2 Alaska 2016-08-04 09:15:07\n1.28 California 2016-08-04 09:15:17\n0.3 California 2016-08-04 09:16:39\n1.0 Nevada 2016-08-04 09:18:13\n1.5 Nevada 2016-08-04 09:21:32\n0.86 California 2016-08-04 09:30:11\n0.3 California 2016-08-04 09:35:06\n0.6 California 2016-08-04 09:36:41\n1.26 California 2016-08-04 09:39:18\n1.21 California 2016-08-04 09:39:27\n0.05 California 2016-08-04 09:39:35\n1.4 Alaska 2016-08-04 09:46:39\n0.3 Nevada 2016-08-04 10:00:41\n0.8 Canada 2016-08-04 10:07:19\n0.6 California 2016-08-04 10:09:37\n1.7 Alaska 2016-08-04 10:13:51\n0.84 California 2016-08-04 10:14:26\n6.2 Argentina 2016-08-04 10:15:12\n0.5 Nevada 2016-08-04 10:15:55\n0.3 Alaska 2016-08-04 10:23:38\n2.08 California 2016-08-04 10:26:19\n0.51 California 2016-08-04 10:37:42\n4.5 Indonesia 2016-08-04 10:48:22\n2.1 Alaska 2016-08-04 10:51:51\n2.13 California 2016-08-04 10:57:22\n4.4 Northern Mariana Islands 2016-08-04 11:06:00\n0.8 Alaska 2016-08-04 11:06:32\n0.9 Nevada 2016-08-04 11:07:25\n1.74 Hawaii 2016-08-04 11:11:50\n2.6 Alaska 2016-08-04 11:17:15\n1.7 Alaska 2016-08-04 11:29:29\n0.2 California 2016-08-04 11:32:15\n1.14 California 2016-08-04 11:36:25\n1.11 California 2016-08-04 11:39:31\n0.6 Nevada 2016-08-04 11:40:30\n0.6 California 2016-08-04 11:40:53\n0.22 California 2016-08-04 11:41:29\n0.1 California 2016-08-04 11:41:34\n0.7 Nevada 2016-08-04 11:41:40\n1.4 Alaska 2016-08-04 11:42:19\n1.31 California 2016-08-04 11:42:50\n1.39 California 2016-08-04 11:43:30\n0.66 California 2016-08-04 11:47:07\n1.5 Alaska 2016-08-04 11:48:41\n1.06 California 2016-08-04 11:53:52\n2.05 California 2016-08-04 11:55:23\n0.89 California 2016-08-04 11:58:02\n2.3 Alaska 2016-08-04 12:00:31\n1.0 Nevada 2016-08-04 12:07:19\n0.4 Nevada 2016-08-04 12:10:07\n1.1 Alaska 2016-08-04 12:11:46\n0.71 California 2016-08-04 12:13:31\n1.1 Alaska 2016-08-04 12:20:50\n2.2 California 2016-08-04 12:23:14\n6.3 Japan 2016-08-04 12:24:33\n0.16 California 2016-08-04 12:27:39\n0.6 California 2016-08-04 12:27:59\n1.61 California 2016-08-04 12:33:19\n1.3 Alaska 2016-08-04 12:48:53\n1.6 Alaska 2016-08-04 13:01:44\n1.3 California 2016-08-04 13:02:16\n1.6 Alaska 2016-08-04 13:02:59\n1.54 California 2016-08-04 13:15:18\n0.2 California 2016-08-04 13:19:15\n4.4 Afghanistan 2016-08-04 13:20:43\n0.5 Nevada 2016-08-04 13:29:13\n1.6 Alaska 2016-08-04 13:29:58\n0.3 Nevada 2016-08-04 13:36:15\n1.68 California 2016-08-04 13:36:47\n0.93 Wyoming 2016-08-04 14:00:53\n1.2 Alaska 2016-08-04 14:04:36\n0.4 Nevada 2016-08-04 14:04:40\n0.94 Wyoming 2016-08-04 14:13:57\n0.2 California 2016-08-04 14:19:59\n1.93 California 2016-08-04 14:21:27\n0.8 Alaska 2016-08-04 14:28:59\n0.5 Nevada 2016-08-04 14:30:10\n0.3 California 2016-08-04 14:35:37\n1.2 Alaska 2016-08-04 14:39:19\n0.3 California 2016-08-04 14:44:12\n0.8 California 2016-08-04 14:49:21\n1.22 California 2016-08-04 15:00:06\n1.2 Alaska 2016-08-04 15:00:09\n1.4 California 2016-08-04 15:00:26\n0.9 Nevada 2016-08-04 15:14:47\n1.8 Alaska 2016-08-04 15:24:53\n0.9 Alaska 2016-08-04 15:26:16\n1.25 California 2016-08-04 15:45:06\n1.25 California 2016-08-04 15:52:34\n0.5 Nevada 2016-08-04 15:53:10\n1.74 California 2016-08-04 15:58:14\n1.6 Alaska 2016-08-04 16:09:34\n1.2 Alaska 2016-08-04 16:23:05\n0.65 California 2016-08-04 16:24:31\n0.77 California 2016-08-04 16:32:59\n0.67 California 2016-08-04 16:33:04\n0.74 California 2016-08-04 16:45:16\n1.0 Alaska 2016-08-04 16:49:31\n0.77 California 2016-08-04 16:50:26\n1.4 California 2016-08-04 16:53:46\n1.2 Alaska 2016-08-04 16:57:38\n1.6 Alaska 2016-08-04 16:58:24\n0.7 Alaska 2016-08-04 16:58:48\n1.11 California 2016-08-04 17:00:34\n1.96 Canada 2016-08-04 17:01:52\n1.3 Alaska 2016-08-04 17:02:10\n1.54 California 2016-08-04 17:10:01\n0.77 California 2016-08-04 17:10:19\n0.66 California 2016-08-04 17:12:56\n1.2 Alaska 2016-08-04 17:22:30\n1.22 California 2016-08-04 17:29:14\n1.26 California 2016-08-04 17:29:23\n1.4 California 2016-08-04 17:30:10\n1.53 California 2016-08-04 17:31:22\n4.5 Tajikistan 2016-08-04 17:34:41\n4.4 Tajikistan 2016-08-04 17:36:45\n1.9 Alaska 2016-08-04 17:51:31\n4.4 Tajikistan 2016-08-04 17:54:59\n1.7 Alaska 2016-08-04 18:15:24\n0.97 Canada 2016-08-04 18:15:51\n0.57 California 2016-08-04 18:17:55\n0.8 Nevada 2016-08-04 18:22:42\n4.6 South Georgia and the South Sandwich Islands 2016-08-04 18:27:36\n0.95 California 2016-08-04 18:31:38\n1.0 Canada 2016-08-04 18:39:01\n1.99 Mexico 2016-08-04 18:43:54\n1.3 Alaska 2016-08-04 18:51:05\n1.1 Alaska 2016-08-04 18:53:14\n0.82 California 2016-08-04 19:00:14\n2.5 Alaska 2016-08-04 19:05:35\n0.77 California 2016-08-04 19:05:52\n0.85 California 2016-08-04 19:06:03\n1.3 Alaska 2016-08-04 19:12:49\n1.49 Mexico 2016-08-04 19:13:50\n0.5 Nevada 2016-08-04 19:16:01\n0.4 Nevada 2016-08-04 19:20:35\n1.4 Alaska 2016-08-04 19:25:52\n2.9 Alaska 2016-08-04 19:34:48\n0.9 California 2016-08-04 19:35:24\n1.18 Montana 2016-08-04 19:38:42\n1.73 California 2016-08-04 19:42:14\n4.7 Tajikistan 2016-08-04 19:42:17\n0.22 California 2016-08-04 19:50:18\n1.0 Alaska 2016-08-04 19:53:43\n4.4 Philippines 2016-08-04 20:02:14\n3.4 Oklahoma 2016-08-04 20:13:07\n1.05 California 2016-08-04 20:19:32\n1.0 Alaska 2016-08-04 20:26:58\n1.8 Alaska 2016-08-04 20:30:19\n1.1 California 2016-08-04 20:57:54\n2.0 British Virgin Islands 2016-08-04 20:58:47\n1.4 Alaska 2016-08-04 21:00:31\n4.6 Vanuatu 2016-08-04 21:03:50\n2.9 British Virgin Islands 2016-08-04 21:03:56\n0.5 California 2016-08-04 21:07:25\n0.77 Utah 2016-08-04 21:11:29\n0.25 California 2016-08-04 21:12:22\n2.2 Puerto Rico 2016-08-04 21:13:41\n0.77 California 2016-08-04 21:15:41\n2.4 Alaska 2016-08-04 21:18:54\n0.7 California 2016-08-04 21:28:43\n2.0 Alaska 2016-08-04 21:32:17\n0.97 California 2016-08-04 21:47:11\n2.2 Alaska 2016-08-04 21:47:17\n1.12 California 2016-08-04 21:52:00\n1.68 California 2016-08-04 21:52:01\n1.18 California 2016-08-04 21:52:45\n1.43 California 2016-08-04 21:54:10\n1.43 California 2016-08-04 21:56:01\n0.65 California 2016-08-04 22:02:28\n1.1 California 2016-08-04 22:05:04\n0.2 California 2016-08-04 22:06:25\n1.4 Alaska 2016-08-04 22:07:36\n2.7 Alaska 2016-08-04 22:14:24\n1.1 Nevada 2016-08-04 22:18:10\n1.0 Alaska 2016-08-04 22:19:47\n0.9 California 2016-08-04 22:21:46\n1.2 California 2016-08-04 22:29:59\n0.38 California 2016-08-04 22:33:43\n3.0 Alaska 2016-08-04 22:56:03\n0.9 Nevada 2016-08-04 23:05:19\n1.07 Hawaii 2016-08-04 23:05:45\n1.0 Nevada 2016-08-04 23:28:40\n0.59 Wyoming 2016-08-04 23:30:17\n4.4 Japan 2016-08-04 23:30:45\n0.2 Nevada 2016-08-04 23:42:11\n4.5 East Timor 2016-08-04 23:44:35\n1.08 California 2016-08-04 23:50:18\n0.31 California 2016-08-04 23:50:37\n1.79 California 2016-08-04 23:53:15\n2.25 California 2016-08-04 23:53:53\n0.3 California 2016-08-04 23:56:38\n0.3 California 2016-08-04 23:57:55\n"
     ]
    }
   ],
   "source": [
    "#Challenge 2\n",
    "import csv\n",
    "with open('earthquakes.csv', newline='') as csvfile:\n",
    "    reader = csv.reader(csvfile)\n",
    "    headers = reader.__next__()\n",
    "    for row in reader:\n",
    "        magnitude = float(row[2])\n",
    "        location = row[9]\n",
    "        time = row[12]\n",
    "        if '2016-08-04' in time:\n",
    "            print(magnitude, location, time)"
   ]
  }
 ],
 "metadata": {
  "kernelspec": {
   "name": "Python 3.8.5 64-bit ('anaconda3': virtualenv)",
   "display_name": "Python 3.8.5 64-bit ('anaconda3': virtualenv)",
   "metadata": {
    "interpreter": {
     "hash": "7a8e0ae4bcdcc4131ab99ddec5de134c9ba3e132ca5c89b6b65ad0cfb9647ed0"
    }
   }
  },
  "language_info": {
   "codemirror_mode": {
    "name": "ipython",
    "version": 3
   },
   "file_extension": ".py",
   "mimetype": "text/x-python",
   "name": "python",
   "nbconvert_exporter": "python",
   "pygments_lexer": "ipython3",
   "version": "3.8.5-final"
  }
 },
 "nbformat": 4,
 "nbformat_minor": 2
}